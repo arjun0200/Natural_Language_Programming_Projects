{
 "cells": [
  {
   "cell_type": "code",
   "execution_count": 1,
   "id": "22b29fb7",
   "metadata": {},
   "outputs": [],
   "source": [
    "# installing necessary libraries\n",
    "#!pip install --upgrade pip\n",
    "#!pip install SpeechRecognition==3.8.1\n",
    "\n",
    "#!python -m pip install pyaudio\n",
    "\n",
    "# !pip install SpeechRecognition\n",
    "# import pyaudio\n",
    "\n",
    "#!pip install pipwin\n",
    "#!pipwin install pyaudio\n",
    "\n",
    "\n",
    "# ! pip install -U textblob ==\n",
    "# ! python -m textblob.download_corpora"
   ]
  },
  {
   "cell_type": "code",
   "execution_count": 2,
   "id": "28621811",
   "metadata": {},
   "outputs": [],
   "source": [
    "#!pip install textblob\n"
   ]
  },
  {
   "cell_type": "code",
   "execution_count": 3,
   "id": "c3a9af87",
   "metadata": {},
   "outputs": [
    {
     "data": {
      "text/plain": [
       "'3.8.1'"
      ]
     },
     "execution_count": 3,
     "metadata": {},
     "output_type": "execute_result"
    }
   ],
   "source": [
    "#import library\n",
    "\n",
    "import speech_recognition as sr\n",
    "from textblob import TextBlob\n",
    "sr.__version__"
   ]
  },
  {
   "cell_type": "code",
   "execution_count": 4,
   "id": "579efbc6",
   "metadata": {},
   "outputs": [
    {
     "name": "stdout",
     "output_type": "stream",
     "text": [
      "Converting audio transripts into text\n",
      "\n",
      "Your audio text is= \n",
      " hello friend we are going to convert audio file into text then we convert it into Hindi language\n",
      "\n",
      " Native language text = \n",
      " हेलो फ्रेंड हम ऑडियो फ़ाइल को टेक्स्ट में बदलने जा रहे हैं, फिर हम इसे हिंदी भाषा में बदल देते हैं\n"
     ]
    }
   ],
   "source": [
    "# initialize recognizer class (for recognizing the speech)\n",
    "r = sr.Recognizer()\n",
    "\n",
    "# reading audio file as source\n",
    "# listening the audio file and store in audio_text variable\n",
    "\n",
    "with sr.AudioFile(\"recording.wav\") as source:\n",
    "    \n",
    "    audio_text = r.listen(source, timeout = 2)\n",
    "    \n",
    "# recognize_google() method throw a request error if API is unreachable, hence using exception handling\n",
    "    try:\n",
    "            # using google speech recognition\n",
    "        text = r.recognize_google(audio_text)\n",
    "        print(\"Converting audio transripts into text\\n\")\n",
    "        print(\"Your audio text is= \\n\", text)\n",
    "\n",
    "        blob = TextBlob(text)\n",
    "        your_lang = blob.translate(from_lang = 'en', to = 'hi')\n",
    "        print(\"\\n Native language text = \\n\", your_lang)\n",
    "\n",
    "    except:\n",
    "        print(\"sorry run again\")"
   ]
  },
  {
   "cell_type": "code",
   "execution_count": null,
   "id": "97566744",
   "metadata": {},
   "outputs": [],
   "source": []
  },
  {
   "cell_type": "markdown",
   "id": "813e2f70",
   "metadata": {},
   "source": [
    "## Speech to text practical"
   ]
  },
  {
   "cell_type": "code",
   "execution_count": 7,
   "id": "ca6fed2c",
   "metadata": {},
   "outputs": [],
   "source": [
    "import speech_recognition as sr"
   ]
  },
  {
   "cell_type": "code",
   "execution_count": 11,
   "id": "52c1b8d8",
   "metadata": {},
   "outputs": [],
   "source": [
    "r = sr.Recognizer()\n",
    "\n",
    "# reading microphone as source\n",
    "# listening the speech and store in audio_text variable\n",
    "\n",
    "with sr.Microphone() as source:\n",
    "    print(\"start talking\")\n",
    "    \n",
    "    Audio_text = r.listen(source)\n",
    "    print(\"Here your converted below text\")\n",
    "    \n",
    "# recognize() method will throw  a request error if the API is unreachable, hence using exception handling\n",
    "\n",
    "    try:\n",
    "        # using google speech recognition\n",
    "        speech_2_text = r.recognize_google(Audio_text)\n",
    "        print(speech_2_text)\n",
    "        \n",
    "    except:\n",
    "        print(\"Sorry I didn't get that\")"
   ]
  },
  {
   "cell_type": "markdown",
   "id": "c0f11f13",
   "metadata": {},
   "source": [
    "## How to write in the document by speech to text?"
   ]
  },
  {
   "cell_type": "code",
   "execution_count": 12,
   "id": "e2f53da5",
   "metadata": {},
   "outputs": [],
   "source": [
    "#open the file with write mode\n",
    "f = open(\"story.doc\", \"w\")  #.text\n",
    "\n",
    "#write the recorded content into the file\n",
    "f.write(speech_2_text)\n",
    "\n",
    "# close the file\n",
    "f.cose()"
   ]
  },
  {
   "cell_type": "code",
   "execution_count": null,
   "id": "c4aff087",
   "metadata": {},
   "outputs": [],
   "source": []
  },
  {
   "cell_type": "markdown",
   "id": "c88825fd",
   "metadata": {},
   "source": [
    "## Translation and Language Detection"
   ]
  },
  {
   "cell_type": "markdown",
   "id": "70efa0a3",
   "metadata": {},
   "source": [
    "#### TextBlobs can be translated between languages"
   ]
  },
  {
   "cell_type": "code",
   "execution_count": 13,
   "id": "57189533",
   "metadata": {},
   "outputs": [],
   "source": [
    "from textblob import TextBlob"
   ]
  },
  {
   "cell_type": "code",
   "execution_count": 14,
   "id": "1d598007",
   "metadata": {},
   "outputs": [
    {
     "data": {
      "text/plain": [
       "TextBlob(\"आप सभी को शुभकामनाएं\")"
      ]
     },
     "execution_count": 14,
     "metadata": {},
     "output_type": "execute_result"
    }
   ],
   "source": [
    "blob = TextBlob(u'Good wishes to you all')\n",
    "blob.translate(from_lang = 'en', to = 'hi')"
   ]
  },
  {
   "cell_type": "code",
   "execution_count": 15,
   "id": "8ff52314",
   "metadata": {},
   "outputs": [
    {
     "data": {
      "text/plain": [
       "TextBlob(\"आप सभी को खुश करता है\")"
      ]
     },
     "execution_count": 15,
     "metadata": {},
     "output_type": "execute_result"
    }
   ],
   "source": [
    "blob = TextBlob(u'நீங்கள் அனைவருக்கும் நல்வாழ்த்துக்கள்')\n",
    "blob.translate(from_lang = 'ta', to='hi')"
   ]
  },
  {
   "cell_type": "markdown",
   "id": "72be5bde",
   "metadata": {},
   "source": [
    "If no source language is specified, TextBlob will attempt to detect the language. You can specify the source language explicitly, like so. Raises TranslatorError if the TextBlob cannot be translated into the requested language or NotTranslated if the translated result is the same as the input string.\n",
    "\n"
   ]
  },
  {
   "cell_type": "code",
   "execution_count": 16,
   "id": "a36e4fe1",
   "metadata": {},
   "outputs": [
    {
     "data": {
      "text/plain": [
       "TextBlob(\"有总比没有好\")"
      ]
     },
     "execution_count": 16,
     "metadata": {},
     "output_type": "execute_result"
    }
   ],
   "source": [
    "blob = TextBlob(u'Something is better than nothing')\n",
    "blob.translate(from_lang = 'en', to='zh-CN')"
   ]
  },
  {
   "cell_type": "code",
   "execution_count": 17,
   "id": "af258d73",
   "metadata": {},
   "outputs": [
    {
     "data": {
      "text/plain": [
       "TextBlob(\"There is always better than not\")"
      ]
     },
     "execution_count": 17,
     "metadata": {},
     "output_type": "execute_result"
    }
   ],
   "source": [
    "chinese_blob = TextBlob(u\"有总比没有好\")\n",
    "chinese_blob.translate(from_lang=\"zh-CN\", to='en')"
   ]
  },
  {
   "cell_type": "markdown",
   "id": "ee53cb71",
   "metadata": {},
   "source": [
    "#### You can also attempt to detect a TextBlob’s language using TextBlob.detect_language()."
   ]
  },
  {
   "cell_type": "code",
   "execution_count": 18,
   "id": "cb19b8f2",
   "metadata": {},
   "outputs": [],
   "source": [
    "# d = TextBlob(\"what is you name\")\n",
    "# d.detect_language()"
   ]
  },
  {
   "cell_type": "code",
   "execution_count": null,
   "id": "031d00ca",
   "metadata": {},
   "outputs": [],
   "source": []
  },
  {
   "cell_type": "markdown",
   "id": "13326f0e",
   "metadata": {},
   "source": [
    "## One language to another using speech recognition"
   ]
  },
  {
   "cell_type": "code",
   "execution_count": 19,
   "id": "31a21ae8",
   "metadata": {},
   "outputs": [],
   "source": [
    "import speech_recognition as sr\n",
    "from textblob import TextBlob"
   ]
  },
  {
   "cell_type": "code",
   "execution_count": 21,
   "id": "dc5e0020",
   "metadata": {},
   "outputs": [],
   "source": [
    "r = sr.Recognizer()\n",
    "\n",
    "# reading microphone as source\n",
    "#listening the speech and store in audio_text variable\n",
    "\n",
    "with sr.Microphone() as source:\n",
    "    print(\"Start talking\")\n",
    "    audio_text = r.listen(source)\n",
    "    print(\"here is your converted text\")\n",
    "    \n",
    "# recognize() method will throw a request error if API is unreachable, hence using exception handling\n",
    "    \n",
    "    try:\n",
    "        speech_text = r.recognize_google(audio_text, language = 'en')\n",
    "        blob = TextBlob(speech_text)\n",
    "        print(blob.translate(from_lang = 'en', to = 'hi'))\n",
    "    except:\n",
    "        print(\"try again to speak\")"
   ]
  },
  {
   "cell_type": "code",
   "execution_count": null,
   "id": "cb46acc5",
   "metadata": {},
   "outputs": [],
   "source": []
  }
 ],
 "metadata": {
  "kernelspec": {
   "display_name": "Python 3 (ipykernel)",
   "language": "python",
   "name": "python3"
  },
  "language_info": {
   "codemirror_mode": {
    "name": "ipython",
    "version": 3
   },
   "file_extension": ".py",
   "mimetype": "text/x-python",
   "name": "python",
   "nbconvert_exporter": "python",
   "pygments_lexer": "ipython3",
   "version": "3.7.3"
  }
 },
 "nbformat": 4,
 "nbformat_minor": 5
}
