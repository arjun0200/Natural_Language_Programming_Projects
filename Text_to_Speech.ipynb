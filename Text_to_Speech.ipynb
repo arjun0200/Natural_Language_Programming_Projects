{
  "nbformat": 4,
  "nbformat_minor": 0,
  "metadata": {
    "colab": {
      "provenance": [],
      "collapsed_sections": []
    },
    "kernelspec": {
      "name": "python3",
      "display_name": "Python 3"
    },
    "language_info": {
      "name": "python"
    }
  },
  "cells": [
    {
      "cell_type": "code",
      "execution_count": 2,
      "metadata": {
        "colab": {
          "base_uri": "https://localhost:8080/"
        },
        "id": "BjZY570raSoS",
        "outputId": "8fda3cb2-68ae-4bca-c955-dad309408b95"
      },
      "outputs": [
        {
          "output_type": "stream",
          "name": "stdout",
          "text": [
            "Looking in indexes: https://pypi.org/simple, https://us-python.pkg.dev/colab-wheels/public/simple/\n",
            "Collecting gTTS\n",
            "  Downloading gTTS-2.2.4-py3-none-any.whl (26 kB)\n",
            "Requirement already satisfied: click in /usr/local/lib/python3.7/dist-packages (from gTTS) (7.1.2)\n",
            "Requirement already satisfied: requests in /usr/local/lib/python3.7/dist-packages (from gTTS) (2.23.0)\n",
            "Requirement already satisfied: six in /usr/local/lib/python3.7/dist-packages (from gTTS) (1.15.0)\n",
            "Requirement already satisfied: idna<3,>=2.5 in /usr/local/lib/python3.7/dist-packages (from requests->gTTS) (2.10)\n",
            "Requirement already satisfied: chardet<4,>=3.0.2 in /usr/local/lib/python3.7/dist-packages (from requests->gTTS) (3.0.4)\n",
            "Requirement already satisfied: certifi>=2017.4.17 in /usr/local/lib/python3.7/dist-packages (from requests->gTTS) (2022.6.15)\n",
            "Requirement already satisfied: urllib3!=1.25.0,!=1.25.1,<1.26,>=1.21.1 in /usr/local/lib/python3.7/dist-packages (from requests->gTTS) (1.24.3)\n",
            "Installing collected packages: gTTS\n",
            "Successfully installed gTTS-2.2.4\n"
          ]
        }
      ],
      "source": [
        "!pip install gTTS"
      ]
    },
    {
      "cell_type": "code",
      "source": [
        "#Import the req module for text\n",
        "#to speech conversion\n",
        "from gtts import gTTS\n",
        "\n",
        "#this module is imported so that we can\n",
        "#play the converted audio\n",
        "\n",
        "import os\n",
        "\n",
        "# The next that you want to convert to audio\n",
        "mytext = \"Welcome to my github profile, I hope you are going to like it\"\n",
        "\n",
        "# Language in which you want to convert\n",
        "language = 'en'\n",
        "\n",
        "#passing the text and language to the engine\n",
        "#here we have marked slow = False which tells the module that converted audio into normal speed\n",
        "#otherwise default value is True\n",
        "\n",
        "myobj = gTTS(text = mytext, lang = language, slow = False)\n",
        "\n",
        "#saving the converted audio in a mp3 file named welcome\n",
        "\n",
        "myobj.save(\"welcome.mp3\")"
      ],
      "metadata": {
        "id": "nY7UUlt5aa_A"
      },
      "execution_count": 3,
      "outputs": []
    },
    {
      "cell_type": "code",
      "source": [],
      "metadata": {
        "id": "KvFi4GPGb5-8"
      },
      "execution_count": null,
      "outputs": []
    }
  ]
}